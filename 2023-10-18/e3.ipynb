{
  "nbformat": 4,
  "nbformat_minor": 0,
  "metadata": {
    "colab": {
      "provenance": []
    },
    "kernelspec": {
      "name": "python3",
      "display_name": "Python 3"
    },
    "language_info": {
      "name": "python"
    }
  },
  "cells": [
    {
      "cell_type": "code",
      "execution_count": 1,
      "metadata": {
        "id": "Ua-s-WPbOQsL"
      },
      "outputs": [],
      "source": [
        "import numpy as np\n",
        "import pandas as pd"
      ]
    },
    {
      "cell_type": "code",
      "source": [
        "s = pd.Series([1,2,3,4,5,6,7,8,9])\n",
        "print(s)"
      ],
      "metadata": {
        "colab": {
          "base_uri": "https://localhost:8080/"
        },
        "id": "4gwzCW35Ob-W",
        "outputId": "f3f8141a-220b-4620-a8c6-205712003d0b"
      },
      "execution_count": 2,
      "outputs": [
        {
          "output_type": "stream",
          "name": "stdout",
          "text": [
            "0    1\n",
            "1    2\n",
            "2    3\n",
            "3    4\n",
            "4    5\n",
            "5    6\n",
            "6    7\n",
            "7    8\n",
            "8    9\n",
            "dtype: int64\n"
          ]
        }
      ]
    },
    {
      "cell_type": "code",
      "source": [
        "df = pd.DataFrame(np.random.randn(10,4))\n",
        "print(df)"
      ],
      "metadata": {
        "colab": {
          "base_uri": "https://localhost:8080/"
        },
        "id": "vN4erAuTOd7W",
        "outputId": "e7b7582f-abb2-4846-c9b9-981c9a30cdac"
      },
      "execution_count": 10,
      "outputs": [
        {
          "output_type": "stream",
          "name": "stdout",
          "text": [
            "          0         1         2         3\n",
            "0 -0.040538  0.447469 -0.481180  0.362369\n",
            "1  0.427800  0.368143  0.094431 -0.245137\n",
            "2  0.236722 -0.584329 -1.530113  1.818141\n",
            "3  0.981070  0.425298  0.508372  1.558932\n",
            "4 -2.139212  1.973684  0.664585  1.435197\n",
            "5 -0.709330  0.457321  0.301925 -0.474906\n",
            "6 -0.581994 -0.016135 -0.883130 -1.485937\n",
            "7  0.693503 -0.459920  1.236123  0.000965\n",
            "8 -0.305438  0.637702 -0.345110 -1.421271\n",
            "9  1.131651  1.260070  0.937571 -0.186705\n"
          ]
        }
      ]
    },
    {
      "cell_type": "code",
      "source": [
        "temp1=df.iloc[0]\n",
        "print(temp1)"
      ],
      "metadata": {
        "colab": {
          "base_uri": "https://localhost:8080/"
        },
        "id": "eDh0r_pvPVxb",
        "outputId": "45aa4643-179c-4ccf-c608-97598c36e398"
      },
      "execution_count": 11,
      "outputs": [
        {
          "output_type": "stream",
          "name": "stdout",
          "text": [
            "0   -0.040538\n",
            "1    0.447469\n",
            "2   -0.481180\n",
            "3    0.362369\n",
            "Name: 0, dtype: float64\n"
          ]
        }
      ]
    },
    {
      "cell_type": "code",
      "source": [
        "print(df[0])"
      ],
      "metadata": {
        "colab": {
          "base_uri": "https://localhost:8080/"
        },
        "id": "WKttB4iGPZhl",
        "outputId": "45168107-9061-4311-9a75-1b642281de89"
      },
      "execution_count": 12,
      "outputs": [
        {
          "output_type": "stream",
          "name": "stdout",
          "text": [
            "0   -0.040538\n",
            "1    0.427800\n",
            "2    0.236722\n",
            "3    0.981070\n",
            "4   -2.139212\n",
            "5   -0.709330\n",
            "6   -0.581994\n",
            "7    0.693503\n",
            "8   -0.305438\n",
            "9    1.131651\n",
            "Name: 0, dtype: float64\n"
          ]
        }
      ]
    },
    {
      "cell_type": "code",
      "source": [
        "print(df.head(3))"
      ],
      "metadata": {
        "colab": {
          "base_uri": "https://localhost:8080/"
        },
        "id": "MTkQoIDDPczh",
        "outputId": "546bcbd3-5017-4f5d-8b1f-870c1bf59de7"
      },
      "execution_count": 13,
      "outputs": [
        {
          "output_type": "stream",
          "name": "stdout",
          "text": [
            "          0         1         2         3\n",
            "0 -0.040538  0.447469 -0.481180  0.362369\n",
            "1  0.427800  0.368143  0.094431 -0.245137\n",
            "2  0.236722 -0.584329 -1.530113  1.818141\n"
          ]
        }
      ]
    },
    {
      "cell_type": "code",
      "source": [
        "print(df.tail(3))"
      ],
      "metadata": {
        "colab": {
          "base_uri": "https://localhost:8080/"
        },
        "id": "3gq7DoEZPfKl",
        "outputId": "24340dee-1e48-4a16-ae07-e403cbf32780"
      },
      "execution_count": 14,
      "outputs": [
        {
          "output_type": "stream",
          "name": "stdout",
          "text": [
            "          0         1         2         3\n",
            "7  0.693503 -0.459920  1.236123  0.000965\n",
            "8 -0.305438  0.637702 -0.345110 -1.421271\n",
            "9  1.131651  1.260070  0.937571 -0.186705\n"
          ]
        }
      ]
    },
    {
      "cell_type": "code",
      "source": [
        "print(df[1:3])"
      ],
      "metadata": {
        "colab": {
          "base_uri": "https://localhost:8080/"
        },
        "id": "z8g8GdI4Phq5",
        "outputId": "8fc6922d-effa-4ebb-fa12-71f561cb5b58"
      },
      "execution_count": 15,
      "outputs": [
        {
          "output_type": "stream",
          "name": "stdout",
          "text": [
            "          0         1         2         3\n",
            "1  0.427800  0.368143  0.094431 -0.245137\n",
            "2  0.236722 -0.584329 -1.530113  1.818141\n"
          ]
        }
      ]
    },
    {
      "cell_type": "code",
      "source": [
        "print(df.loc[1,1])"
      ],
      "metadata": {
        "colab": {
          "base_uri": "https://localhost:8080/"
        },
        "id": "kcPaKD2DPjlr",
        "outputId": "5f89d451-8f19-4bb0-c456-db711e97be72"
      },
      "execution_count": 16,
      "outputs": [
        {
          "output_type": "stream",
          "name": "stdout",
          "text": [
            "0.36814270111843145\n"
          ]
        }
      ]
    },
    {
      "cell_type": "code",
      "source": [
        "print(df[df[1]>0])"
      ],
      "metadata": {
        "colab": {
          "base_uri": "https://localhost:8080/"
        },
        "id": "T2b6Ks4iPlol",
        "outputId": "3e5ccea3-a4c2-4815-8ae9-370163facb4c"
      },
      "execution_count": 17,
      "outputs": [
        {
          "output_type": "stream",
          "name": "stdout",
          "text": [
            "          0         1         2         3\n",
            "0 -0.040538  0.447469 -0.481180  0.362369\n",
            "1  0.427800  0.368143  0.094431 -0.245137\n",
            "3  0.981070  0.425298  0.508372  1.558932\n",
            "4 -2.139212  1.973684  0.664585  1.435197\n",
            "5 -0.709330  0.457321  0.301925 -0.474906\n",
            "8 -0.305438  0.637702 -0.345110 -1.421271\n",
            "9  1.131651  1.260070  0.937571 -0.186705\n"
          ]
        }
      ]
    },
    {
      "cell_type": "code",
      "source": [
        "df['add'] = [0,1,2,3,4,5,6,7,8,9]\n",
        "print(df)"
      ],
      "metadata": {
        "colab": {
          "base_uri": "https://localhost:8080/"
        },
        "id": "EA7aPF3UPoXy",
        "outputId": "778e76ad-0750-42b4-dfcf-3afc9283db3c"
      },
      "execution_count": 18,
      "outputs": [
        {
          "output_type": "stream",
          "name": "stdout",
          "text": [
            "          0         1         2         3  add\n",
            "0 -0.040538  0.447469 -0.481180  0.362369    0\n",
            "1  0.427800  0.368143  0.094431 -0.245137    1\n",
            "2  0.236722 -0.584329 -1.530113  1.818141    2\n",
            "3  0.981070  0.425298  0.508372  1.558932    3\n",
            "4 -2.139212  1.973684  0.664585  1.435197    4\n",
            "5 -0.709330  0.457321  0.301925 -0.474906    5\n",
            "6 -0.581994 -0.016135 -0.883130 -1.485937    6\n",
            "7  0.693503 -0.459920  1.236123  0.000965    7\n",
            "8 -0.305438  0.637702 -0.345110 -1.421271    8\n",
            "9  1.131651  1.260070  0.937571 -0.186705    9\n"
          ]
        }
      ]
    }
  ]
}